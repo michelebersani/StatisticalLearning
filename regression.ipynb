{
 "metadata": {
  "language_info": {
   "codemirror_mode": {
    "name": "ipython",
    "version": 3
   },
   "file_extension": ".py",
   "mimetype": "text/x-python",
   "name": "python",
   "nbconvert_exporter": "python",
   "pygments_lexer": "ipython3",
   "version": "3.8.5-final"
  },
  "orig_nbformat": 2,
  "kernelspec": {
   "name": "python38564bitenvvenv2ac7c8083f064fe7b4c67b09d46150f4",
   "display_name": "Python 3.8.5 64-bit ('env': venv)",
   "language": "python"
  }
 },
 "nbformat": 4,
 "nbformat_minor": 2,
 "cells": [
  {
   "cell_type": "code",
   "execution_count": 89,
   "metadata": {},
   "outputs": [],
   "source": [
    "import numpy as np\n",
    "import pandas as pd\n",
    "import matplotlib.pyplot as plt\n",
    "from pathlib import Path\n",
    "from sklearn import linear_model\n",
    "from sklearn.neighbors import KNeighborsRegressor\n",
    "from KCrossVal import kFoldCross, MeanAbsError, BinaryAccuracy\n",
    "import time"
   ]
  },
  {
   "cell_type": "code",
   "execution_count": 109,
   "metadata": {},
   "outputs": [
    {
     "output_type": "stream",
     "name": "stdout",
     "text": [
      "19500\n735\n"
     ]
    }
   ],
   "source": [
    "dataset_df = pd.read_csv('./data/Financial_Data.csv')\n",
    "dataset_df = dataset_df.sample(frac=1)\n",
    "excluded_cols = ['Stock', 'Sector', 'Class', 'Year', 'PRICE VAR [%]']\n",
    "num_cols = [c for c in dataset_df.columns if c not in excluded_cols]\n",
    "X_dev = dataset_df[num_cols].to_numpy()\n",
    "Y_float = dataset_df['PRICE VAR [%]'].to_numpy()\n",
    "Y_bin = dataset_df['Class'].to_numpy()\n",
    "\n",
    "print(len(X_dev))\n",
    "\n",
    "print(np.sum((Y_float>100).astype(int)))\n",
    "\n",
    "Y_float[Y_float>100] = 100\n",
    "#not_outliers = np.abs(Y_float - Y_float.mean()) < Y_float.std()*0.01\n",
    "\n",
    "#X_dev = X_dev[not_outliers]\n",
    "#Y_float = Y_float[not_outliers]\n",
    "#Y_bin = Y_bin[not_outliers]\n",
    "\n"
   ]
  },
  {
   "cell_type": "code",
   "execution_count": 102,
   "metadata": {},
   "outputs": [
    {
     "output_type": "execute_result",
     "data": {
      "text/plain": [
       "array([[ 13.97256543],\n",
       "       [100.        ],\n",
       "       [-14.75211849],\n",
       "       ...,\n",
       "       [-27.55555577],\n",
       "       [ 50.04483774],\n",
       "       [ 58.25926291]])"
      ]
     },
     "metadata": {},
     "execution_count": 102
    }
   ],
   "source": [
    "np.atleast_2d(Y_float).transpose()"
   ]
  },
  {
   "cell_type": "code",
   "execution_count": 110,
   "metadata": {},
   "outputs": [
    {
     "output_type": "execute_result",
     "data": {
      "text/plain": [
       "   C  ValErr_mean  ValErr_std    seconds\n",
       "0  1        0.426    0.003643  40.759921"
      ],
      "text/html": "<div>\n<style scoped>\n    .dataframe tbody tr th:only-of-type {\n        vertical-align: middle;\n    }\n\n    .dataframe tbody tr th {\n        vertical-align: top;\n    }\n\n    .dataframe thead th {\n        text-align: right;\n    }\n</style>\n<table border=\"1\" class=\"dataframe\">\n  <thead>\n    <tr style=\"text-align: right;\">\n      <th></th>\n      <th>C</th>\n      <th>ValErr_mean</th>\n      <th>ValErr_std</th>\n      <th>seconds</th>\n    </tr>\n  </thead>\n  <tbody>\n    <tr>\n      <th>0</th>\n      <td>1</td>\n      <td>0.426</td>\n      <td>0.003643</td>\n      <td>40.759921</td>\n    </tr>\n  </tbody>\n</table>\n</div>"
     },
     "metadata": {},
     "execution_count": 110
    }
   ],
   "source": [
    "C_values = [1]\n",
    "results = []\n",
    "for C in C_values:\n",
    "    reg = linear_model.LogisticRegression(C=C,max_iter=1000)\n",
    "    res = kFoldCross(reg.fit, reg.predict, X_dev, Y_bin, 5, MeanAbsError)\n",
    "    res = C, res[0], res[1], res[3]\n",
    "    results.append(res)\n",
    "\n",
    "df = pd.DataFrame(results, columns=['C', 'ValErr_mean', 'ValErr_std', 'seconds'])\n",
    "df.sort_values(by='ValErr_mean')"
   ]
  },
  {
   "cell_type": "code",
   "execution_count": 112,
   "metadata": {},
   "outputs": [
    {
     "output_type": "execute_result",
     "data": {
      "text/plain": [
       "   alpha  ValErr_mean  ValErr_std   seconds\n",
       "3     30    32.205939    0.644349  2.011663\n",
       "2     20    32.261710    0.653381  1.932627\n",
       "1     10    32.399098    0.702327  1.690888\n",
       "0      1    33.809089    2.117411  1.606152"
      ],
      "text/html": "<div>\n<style scoped>\n    .dataframe tbody tr th:only-of-type {\n        vertical-align: middle;\n    }\n\n    .dataframe tbody tr th {\n        vertical-align: top;\n    }\n\n    .dataframe thead th {\n        text-align: right;\n    }\n</style>\n<table border=\"1\" class=\"dataframe\">\n  <thead>\n    <tr style=\"text-align: right;\">\n      <th></th>\n      <th>alpha</th>\n      <th>ValErr_mean</th>\n      <th>ValErr_std</th>\n      <th>seconds</th>\n    </tr>\n  </thead>\n  <tbody>\n    <tr>\n      <th>3</th>\n      <td>30</td>\n      <td>32.205939</td>\n      <td>0.644349</td>\n      <td>2.011663</td>\n    </tr>\n    <tr>\n      <th>2</th>\n      <td>20</td>\n      <td>32.261710</td>\n      <td>0.653381</td>\n      <td>1.932627</td>\n    </tr>\n    <tr>\n      <th>1</th>\n      <td>10</td>\n      <td>32.399098</td>\n      <td>0.702327</td>\n      <td>1.690888</td>\n    </tr>\n    <tr>\n      <th>0</th>\n      <td>1</td>\n      <td>33.809089</td>\n      <td>2.117411</td>\n      <td>1.606152</td>\n    </tr>\n  </tbody>\n</table>\n</div>"
     },
     "metadata": {},
     "execution_count": 112
    }
   ],
   "source": [
    "alpha = [1,10,20,30]\n",
    "results = []\n",
    "for a in alpha:\n",
    "    reg = linear_model.Ridge(alpha=a)\n",
    "    res = kFoldCross(reg.fit, reg.predict, X_dev, Y_float, 5, MeanAbsError)\n",
    "    res = a, res[0], res[1], res[3]\n",
    "    results.append(res)\n",
    "\n",
    "df = pd.DataFrame(results, columns=['alpha', 'ValErr_mean', 'ValErr_std', 'seconds'])\n",
    "df.sort_values(by='ValErr_mean')"
   ]
  },
  {
   "cell_type": "code",
   "execution_count": 107,
   "metadata": {},
   "outputs": [
    {
     "output_type": "execute_result",
     "data": {
      "text/plain": [
       "[(0.00017916845476845518, 'Free Cash Flow'),\n",
       " (0.0002397917396880654, 'Dividend Yield'),\n",
       " (0.0003884306262740216, 'Operating Cash Flow'),\n",
       " (0.00045712718351258446, 'enterpriseValueMultiple'),\n",
       " (0.00045760014145230035, 'longtermDebtToCapitalization'),\n",
       " (0.00047185938642697753, 'Total non-current assets'),\n",
       " (0.0005059434776818749, 'Operating Cash Flow growth'),\n",
       " (0.0005534954298999023, 'Gross Margin'),\n",
       " (0.0007256594522473231, 'Interest Expense'),\n",
       " (0.0007958823409593013, 'EPS Diluted Growth'),\n",
       " (0.001325136300765979, 'priceEarningsRatio'),\n",
       " (0.0013640023692383855, 'priceFairValue'),\n",
       " (0.0014564882360195892, 'Acquisitions and disposals'),\n",
       " (0.0015074749660009242, 'Weighted Average Shares Growth'),\n",
       " (0.001677515310548997, 'freeCashFlowPerShare'),\n",
       " (0.0018002224894944328, 'Preferred Dividends'),\n",
       " (0.0018820174637722308, 'Other Assets'),\n",
       " (0.0022155635887927323, 'EBITDA Margin'),\n",
       " (0.002295041785543817, 'Depreciation & Amortization'),\n",
       " (0.0023252004160653227, 'R&D Expenses'),\n",
       " (0.0025100838653834565, 'Total debt'),\n",
       " (0.002801742230562216, '3Y Dividend per Share Growth (per Share)'),\n",
       " (0.0028287093914783237, 'EPS'),\n",
       " (0.0028291983544181066, 'Dividend payments'),\n",
       " (0.002833649128353608, 'ebtperEBIT'),\n",
       " (0.003255107019744578, 'Short-term investments'),\n",
       " (0.0033392205589193283, '10Y Net Income Growth (per Share)'),\n",
       " (0.003910093291862771, 'Operating Income'),\n",
       " (0.0039499279126562065, 'inventoryTurnover'),\n",
       " (0.003956422008121913, 'returnOnAssets'),\n",
       " (0.0039923981590207006, 'Capex to Depreciation'),\n",
       " (0.004213344696145008, 'Weighted Average Shares Diluted Growth'),\n",
       " (0.0042592933005524795, '5Y Shareholders Equity Growth (per Share)'),\n",
       " (0.004481991213598422, 'Net cash flow / Change in cash'),\n",
       " (0.004671823936479995, 'SG&A Expense'),\n",
       " (0.0047173923191559, 'operatingCashFlowPerShare'),\n",
       " (0.0053188044630516525, 'grossProfitMargin'),\n",
       " (0.00533290333634189, 'currentRatio'),\n",
       " (0.005390300386167407, 'Stock-based compensation to Revenue'),\n",
       " (0.005755448561751696, 'Property, Plant & Equipment Net'),\n",
       " (0.005846324899118384, 'Receivables growth'),\n",
       " (0.005959667917385009, 'Cash and cash equivalents'),\n",
       " (0.00605302888544493, 'daysOfInventoryOutstanding'),\n",
       " (0.006104821357586949, 'Issuance (buybacks) of shares'),\n",
       " (0.006663238131920749, 'Revenue Growth'),\n",
       " (0.006739074584620115, 'priceToFreeCashFlowsRatio'),\n",
       " (0.006744967804824906, '3Y Shareholders Equity Growth (per Share)'),\n",
       " (0.006913073850985965, '10Y Operating CF Growth (per Share)'),\n",
       " (0.006919274230931787, 'Payables'),\n",
       " (0.006999147722686382, 'debtEquityRatio'),\n",
       " (0.007007350893924759, '5Y Operating CF Growth (per Share)'),\n",
       " (0.007252179609518135, 'EBIT Margin'),\n",
       " (0.007446316894385175, 'Weighted Average Shs Out'),\n",
       " (0.007569482402000293, 'Average Payables'),\n",
       " (0.008432407180259676, 'Stock-based compensation'),\n",
       " (0.008697855865713689, 'Tax assets'),\n",
       " (0.008708281935900904, 'Debt Growth'),\n",
       " (0.008836591210585665, 'Net Debt'),\n",
       " (0.008889302426000441, 'Inventories'),\n",
       " (0.009097866243985847, 'Capital Expenditure'),\n",
       " (0.010187101659224351, 'Investing Cash flow'),\n",
       " (0.01047417134949434, '10Y Dividend per Share Growth (per Share)'),\n",
       " (0.010643849614983627, 'dividendYield'),\n",
       " (0.011395344552630334, 'interestCoverage'),\n",
       " (0.011477727549628725, '3Y Operating CF Growth (per Share)'),\n",
       " (0.011488730085550083, 'assetTurnover'),\n",
       " (0.01158158674177121, 'Inventory Growth'),\n",
       " (0.011838905844797657, 'priceBookValueRatio'),\n",
       " (0.01216698047233265, 'priceToSalesRatio'),\n",
       " (0.012403626724966312, 'Net Income Growth'),\n",
       " (0.012419270440219014, 'niperEBT'),\n",
       " (0.012793485140068644, 'Revenue'),\n",
       " (0.013135722609386079, 'Net Income - Discontinued ops'),\n",
       " (0.013228074605265802, 'cashPerShare'),\n",
       " (0.013395620973641414, 'Free Cash Flow growth'),\n",
       " (0.013505582409347865, 'payablesTurnover'),\n",
       " (0.014149697970461343, 'fixedAssetTurnover'),\n",
       " (0.014444325919224565, 'quickRatio'),\n",
       " (0.014523404075971592, 'Total current assets'),\n",
       " (0.014859585719418918, 'EPS Growth'),\n",
       " (0.015807359496419243, 'Intangibles to Total Assets'),\n",
       " (0.01581973685071714, 'daysOfPayablesOutstanding'),\n",
       " (0.016149446348954353, 'priceToOperatingCashFlowsRatio'),\n",
       " (0.016260371539740016, 'Investment purchases and sales'),\n",
       " (0.01656530303673037, '5Y Dividend per Share Growth (per Share)'),\n",
       " (0.016734837035040362, 'Retained earnings (deficit)'),\n",
       " (0.01676042667705073, 'Capex to Revenue'),\n",
       " (0.01692519204991506, 'debtRatio'),\n",
       " (0.016945758471954914, 'Net Income - Non-Controlling int'),\n",
       " (0.017238838168071292, 'Income Tax Expense'),\n",
       " (0.01726957378236774, 'R&D Expense Growth'),\n",
       " (0.017357303425268936, 'priceEarningsToGrowthRatio'),\n",
       " (0.017903876277237746, 'Graham Number'),\n",
       " (0.01843779877201052, 'returnOnCapitalEmployed'),\n",
       " (0.01902128046544837, 'Receivables'),\n",
       " (0.01905279053268853, 'Book Value per Share Growth'),\n",
       " (0.01930834050088924, 'Financing Cash Flow'),\n",
       " (0.01949104940118416, 'Gross Profit'),\n",
       " (0.01960886086391583, 'Long-term debt'),\n",
       " (0.019988365637758975, 'Net Cash/Marketcap'),\n",
       " (0.02007198542114908, '3Y Revenue Growth (per Share)'),\n",
       " (0.02028283533805427, '5Y Revenue Growth (per Share)'),\n",
       " (0.02033608288753476, '5Y Net Income Growth (per Share)'),\n",
       " (0.020757801783571807, 'Total shareholders equity'),\n",
       " (0.02128320592580121, 'EBIT Growth'),\n",
       " (0.02157749602810014, 'Long-term investments'),\n",
       " (0.021917144927411595, 'Effect of forex changes on cash'),\n",
       " (0.02277948903774872, 'Dividend per Share'),\n",
       " (0.02282329666021736, 'Receivables Turnover'),\n",
       " (0.023010571591312104, 'Earnings Yield'),\n",
       " (0.023131283002486278, 'EV to Free cash flow'),\n",
       " (0.023244926947645527, 'Net Debt to EBITDA'),\n",
       " (0.023493727896899033, '10Y Shareholders Equity Growth (per Share)'),\n",
       " (0.024369205257601622, 'Issuance (repayment) of debt'),\n",
       " (0.025395757197450932, 'Shareholders Equity per Share'),\n",
       " (0.02599753297928621, 'Short-term debt'),\n",
       " (0.026049009701341715, 'Operating Income Growth'),\n",
       " (0.026644533715575774, 'Dividends per Share Growth'),\n",
       " (0.028909679064085876, '3Y Net Income Growth (per Share)'),\n",
       " (0.029764091483824494, 'capitalExpenditureCoverageRatios'),\n",
       " (0.029949332080413175, 'Capex per Share'),\n",
       " (0.03082612235282719, 'Goodwill and Intangible Assets'),\n",
       " (0.03311013902970523, 'Free Cash Flow Yield'),\n",
       " (0.03453227548549296, 'cashFlowToDebtRatio'),\n",
       " (0.03848561731822439, 'Revenue per Share'),\n",
       " (0.04071304143478848, '10Y Revenue Growth (per Share)'),\n",
       " (0.04177869274677718, 'Market Cap'),\n",
       " (0.0444918960089422, 'Book Value per Share'),\n",
       " (0.047517888820987016, 'Net Income per Share'),\n",
       " (0.05253624976705979, 'dividendPayoutRatio'),\n",
       " (0.05578645570012339, 'dividendpaidAndCapexCoverageRatios'),\n",
       " (0.06500862906163318, 'Interest Debt per Share'),\n",
       " (0.07825967239043416, 'payoutRatio'),\n",
       " (0.07874887534122459, 'shortTermCoverageRatios')]"
      ]
     },
     "metadata": {},
     "execution_count": 107
    }
   ],
   "source": [
    "corr_values = []\n",
    "for c in num_cols:\n",
    "    array = dataset_df[c]\n",
    "    corr = np.corrcoef(array, Y_float)[0,1]\n",
    "    corr = np.abs(corr)\n",
    "    corr_values.append((corr, c))\n",
    "\n",
    "corr_values.sort(key= lambda tup: tup[0])\n",
    "corr_values"
   ]
  },
  {
   "cell_type": "code",
   "execution_count": 33,
   "metadata": {},
   "outputs": [
    {
     "output_type": "stream",
     "name": "stdout",
     "text": [
      "0.4577019171597633\n",
      "0.4584464378698225\n",
      "0.0008205128205128205\n"
     ]
    }
   ],
   "source": [
    "print(BinaryAccuracy(X_dev, Y_dev2-0.5))\n",
    "print(BinaryAccuracy(X_dev, Y_dev1))\n",
    "print(BinaryAccuracy(Y_dev2, Y_dev1))"
   ]
  },
  {
   "cell_type": "code",
   "execution_count": 106,
   "metadata": {},
   "outputs": [
    {
     "output_type": "execute_result",
     "data": {
      "text/plain": [
       "-0.007444499026286381"
      ]
     },
     "metadata": {},
     "execution_count": 106
    }
   ],
   "source": [
    "np.corrcoef(dataset_df['Receivables'].to_numpy(), Y_bin)[0,1]"
   ]
  },
  {
   "cell_type": "code",
   "execution_count": 52,
   "metadata": {},
   "outputs": [
    {
     "output_type": "execute_result",
     "data": {
      "text/plain": [
       "(18273.53745234518, 228.3855775263013)"
      ]
     },
     "metadata": {},
     "execution_count": 52
    }
   ],
   "source": [
    "(Y_dev1.std(), Y_dev1.mean())"
   ]
  },
  {
   "source": [
    "Y_dev2.mean()"
   ],
   "cell_type": "markdown",
   "metadata": {}
  }
 ]
}