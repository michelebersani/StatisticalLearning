{
 "metadata": {
  "language_info": {
   "codemirror_mode": {
    "name": "ipython",
    "version": 3
   },
   "file_extension": ".py",
   "mimetype": "text/x-python",
   "name": "python",
   "nbconvert_exporter": "python",
   "pygments_lexer": "ipython3",
   "version": "3.7.6-final"
  },
  "orig_nbformat": 2,
  "kernelspec": {
   "name": "python3",
   "display_name": "Python 3.7.6 64-bit ('ml': conda)",
   "metadata": {
    "interpreter": {
     "hash": "479bff33ea3876be8ca43112e9ca43336b5bfced11b4adf0d6d90cc00d122092"
    }
   }
  }
 },
 "nbformat": 4,
 "nbformat_minor": 2,
 "cells": [
  {
   "cell_type": "code",
   "execution_count": 1,
   "metadata": {},
   "outputs": [],
   "source": [
    "import pandas as pd\n",
    "from sklearn.experimental import enable_iterative_imputer\n",
    "from sklearn.impute import IterativeImputer\n",
    "import numpy as np\n",
    "\n",
    "YEARS = range(2014,2019)\n",
    "files = ['./data/'+str(x)+'_Financial_Data.csv' for x in YEARS]\n",
    "dfs = [pd.read_csv(f) for f in files]"
   ]
  },
  {
   "cell_type": "code",
   "execution_count": 2,
   "metadata": {},
   "outputs": [
    {
     "output_type": "execute_result",
     "data": {
      "text/plain": [
       "      Unnamed: 0       Revenue  Revenue Growth  Cost of Revenue  Gross Profit  \\\n",
       "0             PG  7.440100e+10         -0.0713     3.903000e+10  3.537100e+10   \n",
       "1           VIPS  3.734148e+09          1.1737     2.805625e+09  9.285226e+08   \n",
       "2             KR  9.837500e+10          0.0182     7.813800e+10  2.023700e+10   \n",
       "3            RAD  2.552641e+10          0.0053     1.820268e+10  7.323734e+09   \n",
       "4            GIS  1.790960e+10          0.0076     1.153980e+10  6.369800e+09   \n",
       "...          ...           ...             ...              ...           ...   \n",
       "22072       YRIV  0.000000e+00          0.0000     0.000000e+00  0.000000e+00   \n",
       "22073       YTEN  5.560000e+05         -0.4110     0.000000e+00  5.560000e+05   \n",
       "22074       ZKIN  5.488438e+07          0.2210     3.659379e+07  1.829059e+07   \n",
       "22075        ZOM  0.000000e+00          0.0000     0.000000e+00  0.000000e+00   \n",
       "22076       ZYME  5.301900e+07          0.0243     0.000000e+00  5.301900e+07   \n",
       "\n",
       "       R&D Expenses  SG&A Expense  Operating Expenses  Operating Income  \\\n",
       "0      0.000000e+00  2.146100e+10        2.146100e+10      1.391000e+10   \n",
       "1      1.083303e+08  3.441414e+08        7.939267e+08      1.345959e+08   \n",
       "2      0.000000e+00  1.519600e+10        1.751200e+10      2.725000e+09   \n",
       "3      0.000000e+00  6.561162e+09        6.586482e+09      7.372520e+08   \n",
       "4      0.000000e+00  3.474300e+09        3.412400e+09      2.957400e+09   \n",
       "...             ...           ...                 ...               ...   \n",
       "22072  0.000000e+00  3.755251e+06        3.755251e+06     -3.755251e+06   \n",
       "22073  4.759000e+06  5.071000e+06        9.830000e+06     -9.274000e+06   \n",
       "22074  1.652633e+06  7.020320e+06        8.672953e+06      9.617636e+06   \n",
       "22075  1.031715e+07  4.521349e+06        1.664863e+07     -1.664863e+07   \n",
       "22076  5.668400e+07  2.945700e+07        8.614600e+07     -3.312700e+07   \n",
       "\n",
       "       Interest Expense  ...  Inventory Growth  Asset Growth  \\\n",
       "0          7.090000e+08  ...           -0.0217        0.0359   \n",
       "1          1.214869e+07  ...               NaN           NaN   \n",
       "2          4.430000e+08  ...            0.0981        0.1886   \n",
       "3          4.245910e+08  ...           -0.0510       -0.0189   \n",
       "4          3.024000e+08  ...            0.0090        0.0215   \n",
       "...                 ...  ...               ...           ...   \n",
       "22072      1.105849e+07  ...            0.0000       -0.0508   \n",
       "22073      0.000000e+00  ...            0.0000       -0.2323   \n",
       "22074      1.239170e+06  ...            0.7706        0.2489   \n",
       "22075      0.000000e+00  ...            0.0000        0.1568   \n",
       "22076      1.660000e+05  ...            0.0000        0.8519   \n",
       "\n",
       "       Book Value per Share Growth  Debt Growth  R&D Expense Growth  \\\n",
       "0                           0.0316       0.1228              0.0000   \n",
       "1                              NaN          NaN              1.6484   \n",
       "2                           0.3268       0.2738              0.0000   \n",
       "3                           0.1963      -0.0458              0.0000   \n",
       "4                           0.0274       0.1025              0.0000   \n",
       "...                            ...          ...                 ...   \n",
       "22072                      -0.1409      -0.0152              0.0000   \n",
       "22073                      -0.8602       0.0000              0.0352   \n",
       "22074                       0.4074      -0.0968              0.2415   \n",
       "22075                      -0.2200       0.0000              2.7499   \n",
       "22076                       0.1325       0.0000              0.3577   \n",
       "\n",
       "       SG&A Expenses Growth              Sector  PRICE VAR [%]  Class  Year  \n",
       "0                   -0.1746  Consumer Defensive      -9.323276      0  2014  \n",
       "1                    1.7313  Consumer Defensive     -25.512193      0  2014  \n",
       "2                    0.0234  Consumer Defensive      33.118297      1  2014  \n",
       "3                   -0.0060  Consumer Defensive       2.752291      1  2014  \n",
       "4                   -0.0220  Consumer Defensive      12.897715      1  2014  \n",
       "...                     ...                 ...            ...    ...   ...  \n",
       "22072               -0.2602         Real Estate     -90.962099      0  2018  \n",
       "22073               -0.0993     Basic Materials     -77.922077      0  2018  \n",
       "22074                0.8987     Basic Materials     -17.834400      0  2018  \n",
       "22075                0.1457         Industrials     -73.520000      0  2018  \n",
       "22076                0.5880          Healthcare     209.462222      1  2018  \n",
       "\n",
       "[22077 rows x 224 columns]"
      ],
      "text/html": "<div>\n<style scoped>\n    .dataframe tbody tr th:only-of-type {\n        vertical-align: middle;\n    }\n\n    .dataframe tbody tr th {\n        vertical-align: top;\n    }\n\n    .dataframe thead th {\n        text-align: right;\n    }\n</style>\n<table border=\"1\" class=\"dataframe\">\n  <thead>\n    <tr style=\"text-align: right;\">\n      <th></th>\n      <th>Unnamed: 0</th>\n      <th>Revenue</th>\n      <th>Revenue Growth</th>\n      <th>Cost of Revenue</th>\n      <th>Gross Profit</th>\n      <th>R&amp;D Expenses</th>\n      <th>SG&amp;A Expense</th>\n      <th>Operating Expenses</th>\n      <th>Operating Income</th>\n      <th>Interest Expense</th>\n      <th>...</th>\n      <th>Inventory Growth</th>\n      <th>Asset Growth</th>\n      <th>Book Value per Share Growth</th>\n      <th>Debt Growth</th>\n      <th>R&amp;D Expense Growth</th>\n      <th>SG&amp;A Expenses Growth</th>\n      <th>Sector</th>\n      <th>PRICE VAR [%]</th>\n      <th>Class</th>\n      <th>Year</th>\n    </tr>\n  </thead>\n  <tbody>\n    <tr>\n      <th>0</th>\n      <td>PG</td>\n      <td>7.440100e+10</td>\n      <td>-0.0713</td>\n      <td>3.903000e+10</td>\n      <td>3.537100e+10</td>\n      <td>0.000000e+00</td>\n      <td>2.146100e+10</td>\n      <td>2.146100e+10</td>\n      <td>1.391000e+10</td>\n      <td>7.090000e+08</td>\n      <td>...</td>\n      <td>-0.0217</td>\n      <td>0.0359</td>\n      <td>0.0316</td>\n      <td>0.1228</td>\n      <td>0.0000</td>\n      <td>-0.1746</td>\n      <td>Consumer Defensive</td>\n      <td>-9.323276</td>\n      <td>0</td>\n      <td>2014</td>\n    </tr>\n    <tr>\n      <th>1</th>\n      <td>VIPS</td>\n      <td>3.734148e+09</td>\n      <td>1.1737</td>\n      <td>2.805625e+09</td>\n      <td>9.285226e+08</td>\n      <td>1.083303e+08</td>\n      <td>3.441414e+08</td>\n      <td>7.939267e+08</td>\n      <td>1.345959e+08</td>\n      <td>1.214869e+07</td>\n      <td>...</td>\n      <td>NaN</td>\n      <td>NaN</td>\n      <td>NaN</td>\n      <td>NaN</td>\n      <td>1.6484</td>\n      <td>1.7313</td>\n      <td>Consumer Defensive</td>\n      <td>-25.512193</td>\n      <td>0</td>\n      <td>2014</td>\n    </tr>\n    <tr>\n      <th>2</th>\n      <td>KR</td>\n      <td>9.837500e+10</td>\n      <td>0.0182</td>\n      <td>7.813800e+10</td>\n      <td>2.023700e+10</td>\n      <td>0.000000e+00</td>\n      <td>1.519600e+10</td>\n      <td>1.751200e+10</td>\n      <td>2.725000e+09</td>\n      <td>4.430000e+08</td>\n      <td>...</td>\n      <td>0.0981</td>\n      <td>0.1886</td>\n      <td>0.3268</td>\n      <td>0.2738</td>\n      <td>0.0000</td>\n      <td>0.0234</td>\n      <td>Consumer Defensive</td>\n      <td>33.118297</td>\n      <td>1</td>\n      <td>2014</td>\n    </tr>\n    <tr>\n      <th>3</th>\n      <td>RAD</td>\n      <td>2.552641e+10</td>\n      <td>0.0053</td>\n      <td>1.820268e+10</td>\n      <td>7.323734e+09</td>\n      <td>0.000000e+00</td>\n      <td>6.561162e+09</td>\n      <td>6.586482e+09</td>\n      <td>7.372520e+08</td>\n      <td>4.245910e+08</td>\n      <td>...</td>\n      <td>-0.0510</td>\n      <td>-0.0189</td>\n      <td>0.1963</td>\n      <td>-0.0458</td>\n      <td>0.0000</td>\n      <td>-0.0060</td>\n      <td>Consumer Defensive</td>\n      <td>2.752291</td>\n      <td>1</td>\n      <td>2014</td>\n    </tr>\n    <tr>\n      <th>4</th>\n      <td>GIS</td>\n      <td>1.790960e+10</td>\n      <td>0.0076</td>\n      <td>1.153980e+10</td>\n      <td>6.369800e+09</td>\n      <td>0.000000e+00</td>\n      <td>3.474300e+09</td>\n      <td>3.412400e+09</td>\n      <td>2.957400e+09</td>\n      <td>3.024000e+08</td>\n      <td>...</td>\n      <td>0.0090</td>\n      <td>0.0215</td>\n      <td>0.0274</td>\n      <td>0.1025</td>\n      <td>0.0000</td>\n      <td>-0.0220</td>\n      <td>Consumer Defensive</td>\n      <td>12.897715</td>\n      <td>1</td>\n      <td>2014</td>\n    </tr>\n    <tr>\n      <th>...</th>\n      <td>...</td>\n      <td>...</td>\n      <td>...</td>\n      <td>...</td>\n      <td>...</td>\n      <td>...</td>\n      <td>...</td>\n      <td>...</td>\n      <td>...</td>\n      <td>...</td>\n      <td>...</td>\n      <td>...</td>\n      <td>...</td>\n      <td>...</td>\n      <td>...</td>\n      <td>...</td>\n      <td>...</td>\n      <td>...</td>\n      <td>...</td>\n      <td>...</td>\n      <td>...</td>\n    </tr>\n    <tr>\n      <th>22072</th>\n      <td>YRIV</td>\n      <td>0.000000e+00</td>\n      <td>0.0000</td>\n      <td>0.000000e+00</td>\n      <td>0.000000e+00</td>\n      <td>0.000000e+00</td>\n      <td>3.755251e+06</td>\n      <td>3.755251e+06</td>\n      <td>-3.755251e+06</td>\n      <td>1.105849e+07</td>\n      <td>...</td>\n      <td>0.0000</td>\n      <td>-0.0508</td>\n      <td>-0.1409</td>\n      <td>-0.0152</td>\n      <td>0.0000</td>\n      <td>-0.2602</td>\n      <td>Real Estate</td>\n      <td>-90.962099</td>\n      <td>0</td>\n      <td>2018</td>\n    </tr>\n    <tr>\n      <th>22073</th>\n      <td>YTEN</td>\n      <td>5.560000e+05</td>\n      <td>-0.4110</td>\n      <td>0.000000e+00</td>\n      <td>5.560000e+05</td>\n      <td>4.759000e+06</td>\n      <td>5.071000e+06</td>\n      <td>9.830000e+06</td>\n      <td>-9.274000e+06</td>\n      <td>0.000000e+00</td>\n      <td>...</td>\n      <td>0.0000</td>\n      <td>-0.2323</td>\n      <td>-0.8602</td>\n      <td>0.0000</td>\n      <td>0.0352</td>\n      <td>-0.0993</td>\n      <td>Basic Materials</td>\n      <td>-77.922077</td>\n      <td>0</td>\n      <td>2018</td>\n    </tr>\n    <tr>\n      <th>22074</th>\n      <td>ZKIN</td>\n      <td>5.488438e+07</td>\n      <td>0.2210</td>\n      <td>3.659379e+07</td>\n      <td>1.829059e+07</td>\n      <td>1.652633e+06</td>\n      <td>7.020320e+06</td>\n      <td>8.672953e+06</td>\n      <td>9.617636e+06</td>\n      <td>1.239170e+06</td>\n      <td>...</td>\n      <td>0.7706</td>\n      <td>0.2489</td>\n      <td>0.4074</td>\n      <td>-0.0968</td>\n      <td>0.2415</td>\n      <td>0.8987</td>\n      <td>Basic Materials</td>\n      <td>-17.834400</td>\n      <td>0</td>\n      <td>2018</td>\n    </tr>\n    <tr>\n      <th>22075</th>\n      <td>ZOM</td>\n      <td>0.000000e+00</td>\n      <td>0.0000</td>\n      <td>0.000000e+00</td>\n      <td>0.000000e+00</td>\n      <td>1.031715e+07</td>\n      <td>4.521349e+06</td>\n      <td>1.664863e+07</td>\n      <td>-1.664863e+07</td>\n      <td>0.000000e+00</td>\n      <td>...</td>\n      <td>0.0000</td>\n      <td>0.1568</td>\n      <td>-0.2200</td>\n      <td>0.0000</td>\n      <td>2.7499</td>\n      <td>0.1457</td>\n      <td>Industrials</td>\n      <td>-73.520000</td>\n      <td>0</td>\n      <td>2018</td>\n    </tr>\n    <tr>\n      <th>22076</th>\n      <td>ZYME</td>\n      <td>5.301900e+07</td>\n      <td>0.0243</td>\n      <td>0.000000e+00</td>\n      <td>5.301900e+07</td>\n      <td>5.668400e+07</td>\n      <td>2.945700e+07</td>\n      <td>8.614600e+07</td>\n      <td>-3.312700e+07</td>\n      <td>1.660000e+05</td>\n      <td>...</td>\n      <td>0.0000</td>\n      <td>0.8519</td>\n      <td>0.1325</td>\n      <td>0.0000</td>\n      <td>0.3577</td>\n      <td>0.5880</td>\n      <td>Healthcare</td>\n      <td>209.462222</td>\n      <td>1</td>\n      <td>2018</td>\n    </tr>\n  </tbody>\n</table>\n<p>22077 rows × 224 columns</p>\n</div>"
     },
     "metadata": {},
     "execution_count": 2
    }
   ],
   "source": [
    "total = None\n",
    "for i, df in enumerate(dfs):\n",
    "    price_var_column = dfs[i].columns[-2]\n",
    "    dfs[i] = dfs[i].rename(columns={price_var_column: \"PRICE VAR [%]\"})\n",
    "    dfs[i] = dfs[i].drop(['operatingCycle', 'cashConversionCycle'], axis=1)\n",
    "    dfs[i]['Year'] = 2014+i\n",
    "    if i == 0:\n",
    "        total = dfs[0]\n",
    "        continue\n",
    "    else:\n",
    "        total = total.append(dfs[i], ignore_index=True)\n",
    "total"
   ]
  },
  {
   "cell_type": "code",
   "execution_count": 9,
   "metadata": {
    "tags": []
   },
   "outputs": [
    {
     "output_type": "stream",
     "name": "stdout",
     "text": [
      "Imputing 0 completed\n",
      "Imputing 30 completed\n",
      "Imputing 60 completed\n",
      "Imputing 90 completed\n",
      "Imputing 120 completed\n",
      "Imputing 150 completed\n",
      "Imputing 180 completed\n"
     ]
    }
   ],
   "source": [
    "\n"
   ]
  },
  {
   "cell_type": "code",
   "execution_count": 14,
   "metadata": {},
   "outputs": [],
   "source": [
    "total[:200].to_csv(\"incomplete.csv\")"
   ]
  },
  {
   "cell_type": "code",
   "execution_count": null,
   "metadata": {},
   "outputs": [],
   "source": []
  }
 ]
}